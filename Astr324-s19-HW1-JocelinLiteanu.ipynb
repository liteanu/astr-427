{
 "cells": [
  {
   "cell_type": "code",
   "execution_count": 1,
   "metadata": {},
   "outputs": [],
   "source": [
    "import numpy as np\n",
    "import numpy.random as rnd"
   ]
  },
  {
   "cell_type": "markdown",
   "metadata": {},
   "source": [
    "## Write a function that simulates the Monty Hall Problem. Play $N=10000$ games and print the fraction of wins if the player keeps their initial selection vs. if they choose to switch.\n",
    "\n",
    "Extra credit: extend the function to work with any number of doors (not just 3)."
   ]
  },
  {
   "cell_type": "code",
   "execution_count": 2,
   "metadata": {},
   "outputs": [],
   "source": [
    "def monty_play(should_switch):\n",
    "    #\n",
    "    # Plays a round of the Monty Hall problem with three doors.\n",
    "    #\n",
    "    # Randomly choose a door with the car, and the player's initial pick.\n",
    "    # Then eliminate one door, following the rules of the Monty Hall problem.\n",
    "    # Switch the player's pick to the other door if should_switch = True\n",
    "    #\n",
    "    # The function must return True if the player's final pick is the\n",
    "    # door with the car, and False otherwise.\n",
    "    #\n",
    "\n",
    "    #.... your code goes here ....\n",
    "    original_list=(np.arange(1,4))\n",
    "    winning_door=np.random.choice(original_list) #randomly choosing a winning door\n",
    "\n",
    "    random_pick=np.random.choice(original_list) #player's random pick\n",
    "\n",
    "    #create a list for the host to choose from\n",
    "    remove_this=[winning_door, random_pick]\n",
    "    new_list= list(set(original_list).difference(set(remove_this)))\n",
    "    host_pick=np.random.choice(new_list) #host picks a non winning door\n",
    "    \n",
    "    if should_switch == True:\n",
    "        remove_this2=[random_pick, host_pick]\n",
    "        new_list2=list(set(original_list).difference(set(remove_this2)))\n",
    "        new_pick= np.random.choice(new_list2)   #switch player's pick to other door\n",
    "        \n",
    "    if should_switch == False:\n",
    "        new_pick=random_pick\n",
    "           \n",
    "    if new_pick==winning_door:\n",
    "        return True\n",
    "    else:\n",
    "        return False\n",
    "    "
   ]
  },
  {
   "cell_type": "code",
   "execution_count": 3,
   "metadata": {},
   "outputs": [
    {
     "name": "stdout",
     "output_type": "stream",
     "text": [
      "Fraction of wins without switching: 0.3319\n",
      "Fraction of wins with switching:    0.6752\n"
     ]
    }
   ],
   "source": [
    "Ngames = 10000\n",
    "\n",
    "noSwitchWinsFraction = sum(monty_play(should_switch=False) for x in range(Ngames)) / Ngames\n",
    "switchWinsFraction   = sum(monty_play(should_switch=True)  for x in range(Ngames)) / Ngames\n",
    "\n",
    "print(f\"Fraction of wins without switching: {noSwitchWinsFraction}\")\n",
    "print(f\"Fraction of wins with switching:    {switchWinsFraction}\")"
   ]
  },
  {
   "cell_type": "code",
   "execution_count": null,
   "metadata": {},
   "outputs": [],
   "source": []
  }
 ],
 "metadata": {
  "kernelspec": {
   "display_name": "Python 3",
   "language": "python",
   "name": "python3"
  },
  "language_info": {
   "codemirror_mode": {
    "name": "ipython",
    "version": 3
   },
   "file_extension": ".py",
   "mimetype": "text/x-python",
   "name": "python",
   "nbconvert_exporter": "python",
   "pygments_lexer": "ipython3",
   "version": "3.6.4"
  }
 },
 "nbformat": 4,
 "nbformat_minor": 2
}
